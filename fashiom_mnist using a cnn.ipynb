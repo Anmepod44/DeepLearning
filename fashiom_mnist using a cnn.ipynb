{
 "cells": [
  {
   "cell_type": "code",
   "execution_count": 1,
   "metadata": {},
   "outputs": [],
   "source": [
    "import tensorflow as tf\n",
    "from tensorflow import keras\n",
    "from tensorflow.keras.models import Sequential,model_from_json,model_from_yaml,save_model\n",
    "from tensorflow.keras.layers import Dropout,Dense,Conv2D,Flatten,MaxPool2D\n",
    "import matplotlib.pyplot as plt"
   ]
  },
  {
   "cell_type": "code",
   "execution_count": 2,
   "metadata": {},
   "outputs": [],
   "source": [
    "(x_train,y_train),(x_test,y_test)=keras.datasets.mnist.load_data()"
   ]
  },
  {
   "cell_type": "code",
   "execution_count": null,
   "metadata": {},
   "outputs": [],
   "source": [
    "x_train.shape"
   ]
  },
  {
   "cell_type": "code",
   "execution_count": 3,
   "metadata": {},
   "outputs": [],
   "source": [
    "y_train=keras.utils.to_categorical(y_train,10)\n",
    "y_test=keras.utils.to_categorical(y_test,10)"
   ]
  },
  {
   "cell_type": "code",
   "execution_count": 4,
   "metadata": {},
   "outputs": [],
   "source": [
    "x_train=x_train/255.0\n",
    "x_test=x_test/255.0\n",
    "\n",
    "x_train=x_train.reshape(x_train.shape[0],28,28,1)\n",
    "x_test=x_test.reshape(x_test.shape[0],28,28,1)\n"
   ]
  },
  {
   "cell_type": "code",
   "execution_count": 5,
   "metadata": {},
   "outputs": [],
   "source": [
    "model=Sequential()\n",
    " "
   ]
  },
  {
   "cell_type": "code",
   "execution_count": 6,
   "metadata": {},
   "outputs": [],
   "source": [
    "model.add(Conv2D(filters=32,activation='relu',kernel_size=(3,3),padding='same',input_shape=[28,28,1]))\n",
    "model.add(MaxPool2D(pool_size=(2,2),strides=2,padding='valid'))\n",
    "model.add(Conv2D(filters=64,activation='relu',padding='same',kernel_size=(3,3)))\n",
    "\n",
    "\n",
    "model.add(Conv2D(filters=128,activation='relu',padding='same',kernel_size=(3,3)))\n",
    "model.add(MaxPool2D(pool_size=(2,2),strides=2,padding='valid'))\n",
    "\n",
    "model.add(Flatten())\n",
    "model.add(Dense(512,activation='relu'))\n",
    "\n",
    "\n",
    "model.add(Dense(10,activation='softmax'))"
   ]
  },
  {
   "cell_type": "code",
   "execution_count": 7,
   "metadata": {},
   "outputs": [
    {
     "name": "stdout",
     "output_type": "stream",
     "text": [
      "Model: \"sequential\"\n",
      "_________________________________________________________________\n",
      "Layer (type)                 Output Shape              Param #   \n",
      "=================================================================\n",
      "conv2d (Conv2D)              (None, 28, 28, 32)        320       \n",
      "_________________________________________________________________\n",
      "max_pooling2d (MaxPooling2D) (None, 14, 14, 32)        0         \n",
      "_________________________________________________________________\n",
      "conv2d_1 (Conv2D)            (None, 14, 14, 64)        18496     \n",
      "_________________________________________________________________\n",
      "conv2d_2 (Conv2D)            (None, 14, 14, 128)       73856     \n",
      "_________________________________________________________________\n",
      "max_pooling2d_1 (MaxPooling2 (None, 7, 7, 128)         0         \n",
      "_________________________________________________________________\n",
      "flatten (Flatten)            (None, 6272)              0         \n",
      "_________________________________________________________________\n",
      "dense (Dense)                (None, 512)               3211776   \n",
      "_________________________________________________________________\n",
      "dense_1 (Dense)              (None, 10)                5130      \n",
      "=================================================================\n",
      "Total params: 3,309,578\n",
      "Trainable params: 3,309,578\n",
      "Non-trainable params: 0\n",
      "_________________________________________________________________\n"
     ]
    }
   ],
   "source": [
    " model.summary()"
   ]
  },
  {
   "cell_type": "code",
   "execution_count": 8,
   "metadata": {},
   "outputs": [],
   "source": [
    "loss=keras.losses.CategoricalCrossentropy()\n",
    "model.compile(loss=loss,optimizer='adam',metrics=['accuracy'])"
   ]
  },
  {
   "cell_type": "code",
   "execution_count": 9,
   "metadata": {},
   "outputs": [
    {
     "name": "stdout",
     "output_type": "stream",
     "text": [
      "Train on 60000 samples, validate on 10000 samples\n",
      "Epoch 1/10\n",
      "60000/60000 [==============================] - 174s 3ms/sample - loss: 0.1971 - accuracy: 0.9388 - val_loss: 0.0619 - val_accuracy: 0.9800\n",
      "Epoch 2/10\n",
      "60000/60000 [==============================] - 153s 3ms/sample - loss: 0.0466 - accuracy: 0.9854 - val_loss: 0.0316 - val_accuracy: 0.9882\n",
      "Epoch 3/10\n",
      "60000/60000 [==============================] - 155s 3ms/sample - loss: 0.0304 - accuracy: 0.9906 - val_loss: 0.0276 - val_accuracy: 0.9898\n",
      "Epoch 4/10\n",
      "60000/60000 [==============================] - 141s 2ms/sample - loss: 0.0231 - accuracy: 0.9923 - val_loss: 0.0250 - val_accuracy: 0.9918\n",
      "Epoch 5/10\n",
      "60000/60000 [==============================] - 142s 2ms/sample - loss: 0.0160 - accuracy: 0.9952 - val_loss: 0.0265 - val_accuracy: 0.9911\n",
      "Epoch 6/10\n",
      "60000/60000 [==============================] - 147s 2ms/sample - loss: 0.0110 - accuracy: 0.9965 - val_loss: 0.0335 - val_accuracy: 0.9908\n",
      "Epoch 7/10\n",
      "60000/60000 [==============================] - 148s 2ms/sample - loss: 0.0104 - accuracy: 0.9964 - val_loss: 0.0286 - val_accuracy: 0.9910\n",
      "Epoch 8/10\n",
      "60000/60000 [==============================] - 141s 2ms/sample - loss: 0.0099 - accuracy: 0.9964 - val_loss: 0.0276 - val_accuracy: 0.9920\n",
      "Epoch 9/10\n",
      "60000/60000 [==============================] - 150s 3ms/sample - loss: 0.0074 - accuracy: 0.9976 - val_loss: 0.0275 - val_accuracy: 0.9918\n",
      "Epoch 10/10\n",
      "60000/60000 [==============================] - 143s 2ms/sample - loss: 0.0049 - accuracy: 0.9984 - val_loss: 0.0398 - val_accuracy: 0.9900\n"
     ]
    }
   ],
   "source": [
    "history=model.fit(x_train,y_train,batch_size=300,epochs=10,verbose=1,validation_data=(x_test,y_test))"
   ]
  },
  {
   "cell_type": "code",
   "execution_count": 18,
   "metadata": {},
   "outputs": [
    {
     "data": {
      "text/plain": [
       "<function matplotlib.pyplot.show(close=None, block=None)>"
      ]
     },
     "execution_count": 18,
     "metadata": {},
     "output_type": "execute_result"
    },
    {
     "data": {
      "image/png": "[encoded data removed]",
      "text/plain": [
       "<Figure size 432x288 with 1 Axes>"
      ]
     },
     "metadata": {
      "needs_background": "light"
     },
     "output_type": "display_data"
    }
   ],
   "source": [
    "train_acc=history.history['accuracy']\n",
    "val_acc=history.history['val_accuracy']\n",
    "epoch=range(1,11)\n",
    "plt.plot(epoch,train_acc,label='train_accuracy',c='g')\n",
    "plt.plot(epoch,val_acc,label='validation_accuracy',c='b')\n",
    "plt.xlabel('epochs')\n",
    "plt.ylabel('accuracy')\n",
    "plt.show"
   ]
  },
  {
   "cell_type": "code",
   "execution_count": 20,
   "metadata": {},
   "outputs": [
    {
     "data": {
      "image/png": "[encoded data removed]",
      "text/plain": [
       "<Figure size 432x288 with 1 Axes>"
      ]
     },
     "metadata": {
      "needs_background": "light"
     },
     "output_type": "display_data"
    }
   ],
   "source": [
    "train_loss=history.history['loss']\n",
    "val_loss=history.history['val_loss']\n",
    "plt.plot(epoch,train_loss,c='red')\n",
    "\n",
    "plt.plot(epoch,val_loss,label='validation_loss',c='black')\n",
    "plt.xlabel('epoch')\n",
    "plt.ylabel('loss')\n",
    "plt.show()\n"
   ]
  },
  {
   "cell_type": "code",
   "execution_count": 26,
   "metadata": {},
   "outputs": [
    {
     "name": "stdout",
     "output_type": "stream",
     "text": [
      "['T-shirt/top', 'Trouser', 'Pullover', 'Dress', 'Coat', 'Sandal', 'Shirt', 'Sneaker', 'Bag', 'Ankle', 'boot']\n"
     ]
    }
   ],
   "source": [
    "\n",
    "data=\"T-shirt/top Trouser Pullover Dress Coat Sandal Shirt Sneaker Bag Ankle boot\"\n",
    "labels=data.split(' ')\n",
    "print(labels)\n",
    " "
   ]
  },
  {
   "cell_type": "code",
   "execution_count": null,
   "metadata": {},
   "outputs": [],
   "source": []
  }
 ],
 "metadata": {
  "kernelspec": {
   "display_name": "Python [conda env:opencv-env] *",
   "language": "python",
   "name": "conda-env-opencv-env-py"
  },
  "language_info": {
   "codemirror_mode": {
    "name": "ipython",
    "version": 3
   },
   "file_extension": ".py",
   "mimetype": "text/x-python",
   "name": "python",
   "nbconvert_exporter": "python",
   "pygments_lexer": "ipython3",
   "version": "3.7.4"
  }
 },
 "nbformat": 4,
 "nbformat_minor": 2
}

{
 "cells": [
  {
   "cell_type": "code",
   "execution_count": 52,
   "metadata": {
    "id": "MTpZmTJLs7Kb"
   },
   "outputs": [],
   "source": [
    "import tensorflow as tf\n",
    "from tensorflow import keras\n",
    "from keras.applications import inception_v3\n",
    "from keras.layers import Input,Flatten,Conv2D,Dense,MaxPooling2D,Dropout,BatchNormalization\n",
    "from keras.models import load_model,Sequential,Model,Input\n",
    "from keras.datasets import mnist\n",
    "from keras.preprocessing.image import ImageDataGenerator\n",
    "from keras.callbacks import ModelCheckpoint\n",
    "from keras.optimizers import RMSprop\n",
    "import matplotlib.pyplot as plt\n",
    "import os\n",
    "import numpy as np\n",
    "import pandas as pd\n",
    "import seaborn as sns\n",
    "from sklearn.metrics import confusion_matrix\n",
    "from sklearn.metrics import classification_report\n",
    "from mlxtend.plotting import plot_confusion_matrix"
   ]
  },
  {
   "cell_type": "code",
   "execution_count": 5,
   "metadata": {
    "id": "K-s5525fs7Kj"
   },
   "outputs": [],
   "source": [
    "train_generator=ImageDataGenerator(rescale=1/255,horizontal_flip=True,vertical_flip=True,rotation_range=45,zoom_range=0.25)\n",
    "val_generator=ImageDataGenerator(rescale=1/255,validation_split=0.2)"
   ]
  },
  {
   "cell_type": "code",
   "execution_count": 6,
   "metadata": {
    "id": "EK922GZIs7Kk"
   },
   "outputs": [],
   "source": [
    "os.chdir(r'C:\\Users\\HP\\data\\Brain_tumor_classification')"
   ]
  },
  {
   "cell_type": "code",
   "execution_count": 11,
   "metadata": {
    "id": "JLm5QkE5s7Kl"
   },
   "outputs": [],
   "source": [
    "def load_training_data():\n",
    "    training_data=train_generator.flow_from_directory('Training',color_mode='rgb',class_mode='categorical',target_size=(200,200),subset='training')\n",
    "    validation_data=val_generator.flow_from_directory('Training',color_mode='rgb',class_mode='categorical',target_size=(200,200),subset='validation')\n",
    "    return (training_data,validation_data)\n",
    " \n",
    "def load_testing_data():\n",
    "    return train_generator.flow_from_directory(\"Testing\",color_mode=\"rgb\",target_size=(200,200))"
   ]
  },
  {
   "cell_type": "code",
   "execution_count": 12,
   "metadata": {
    "colab": {
     "base_uri": "https://localhost:8080/"
    },
    "id": "PeKhlHPas7Km",
    "outputId": "4ec7c4b3-0d19-4fd5-b3c7-db6c5ee60dbe"
   },
   "outputs": [
    {
     "name": "stdout",
     "output_type": "stream",
     "text": [
      "Found 2870 images belonging to 4 classes.\n",
      "Found 573 images belonging to 4 classes.\n",
      "Found 394 images belonging to 4 classes.\n"
     ]
    }
   ],
   "source": [
    "(train_data,val_data)=load_training_data()\n",
    "test_data=load_testing_data()"
   ]
  },
  {
   "cell_type": "code",
   "execution_count": 13,
   "metadata": {
    "colab": {
     "base_uri": "https://localhost:8080/",
     "height": 338
    },
    "id": "AmuvfnCns7Kq",
    "outputId": "2d99a08d-a2d3-466d-df14-f66b31a11302"
   },
   "outputs": [
    {
     "data": {
      "text/plain": [
       "<AxesSubplot:>"
      ]
     },
     "execution_count": 13,
     "metadata": {},
     "output_type": "execute_result"
    },
    {
     "data": {
      "image/png": "[encoded data removed]",
      "text/plain": [
       "<Figure size 432x288 with 1 Axes>"
      ]
     },
     "metadata": {
      "needs_background": "light"
     },
     "output_type": "display_data"
    }
   ],
   "source": [
    "#checking the distribution of images (training samples) in our categories\n",
    "sns.distplot(pd.DataFrame(train_data.labels))"
   ]
  },
  {
   "cell_type": "code",
   "execution_count": null,
   "metadata": {
    "colab": {
     "base_uri": "https://localhost:8080/"
    },
    "id": "mzJBgE45s7Ks",
    "outputId": "f31c9eeb-e751-49ab-bee9-b22caac60a89"
   },
   "outputs": [
    {
     "name": "stdout",
     "output_type": "stream",
     "text": [
      "Downloading data from https://storage.googleapis.com/keras-applications/efficientnetb7_notop.h5\n",
      "258080768/258076736 [==============================] - 1s 0us/step\n"
     ]
    }
   ],
   "source": [
    "model=keras.applications.efficientnet.EfficientNetB7(include_top=False,weights='imagenet',input_shape=(200,200,3))\n",
    " "
   ]
  },
  {
   "cell_type": "code",
   "execution_count": 16,
   "metadata": {
    "colab": {
     "base_uri": "https://localhost:8080/"
    },
    "id": "mTg5ThTh8yY9",
    "outputId": "d58dd56e-dfc0-437a-fac8-b35938d344f0"
   },
   "outputs": [
    {
     "name": "stdout",
     "output_type": "stream",
     "text": [
      "enter name of directory to store your model and weightshunger\n"
     ]
    }
   ],
   "source": [
    "name=input(\"enter name of directory to store your model and weights\")\n",
    "modelcallback=ModelCheckpoint(filepath=\"model/{}.cpkt\".format(name),save_best_only=True,save_weights_only=False,verbose=True)"
   ]
  },
  {
   "cell_type": "code",
   "execution_count": 62,
   "metadata": {
    "id": "2lYoXCvns7Ku"
   },
   "outputs": [],
   "source": [
    "model=Sequential()\n",
    "\n",
    " \n",
    "          \n",
    "model.add(Conv2D(filters=128,kernel_size=(5,5),activation='relu',input_shape=(200,200,3)))\n",
    "model.add(MaxPooling2D(pool_size=(2,2)))\n",
    "model.add(BatchNormalization())          \n",
    "          \n",
    "model.add(Conv2D(filters=64,kernel_size=(5,5),activation='relu'))\n",
    "model.add(MaxPooling2D(pool_size=(2,2)))\n",
    "model.add(BatchNormalization()) \n",
    "          \n",
    "model.add(Conv2D(filters=32,kernel_size=(5,5),activation='relu'))\n",
    "model.add(MaxPooling2D(pool_size=(2,2)))\n",
    "\n",
    "model.add(Flatten())\n",
    "\n",
    "model.add(Dense(512,activation='relu'))\n",
    "model.add(Dropout(0.3))\n",
    "\n",
    "model.add(Dense(512,activation='relu'))\n",
    "model.add(Dropout(0.3))\n",
    "\n",
    "model.add(Dense(4,activation='softmax'))\n",
    "\n",
    "#adding regularization to the model"
   ]
  },
  {
   "cell_type": "code",
   "execution_count": 57,
   "metadata": {},
   "outputs": [
    {
     "name": "stdout",
     "output_type": "stream",
     "text": [
      "Model: \"sequential_5\"\n",
      "_________________________________________________________________\n",
      "Layer (type)                 Output Shape              Param #   \n",
      "=================================================================\n",
      "conv2d_10 (Conv2D)           (None, 196, 196, 128)     9728      \n",
      "_________________________________________________________________\n",
      "max_pooling2d_10 (MaxPooling (None, 98, 98, 128)       0         \n",
      "_________________________________________________________________\n",
      "batch_normalization_1 (Batch (None, 98, 98, 128)       512       \n",
      "_________________________________________________________________\n",
      "conv2d_11 (Conv2D)           (None, 94, 94, 64)        204864    \n",
      "_________________________________________________________________\n",
      "max_pooling2d_11 (MaxPooling (None, 47, 47, 64)        0         \n",
      "_________________________________________________________________\n",
      "batch_normalization_2 (Batch (None, 47, 47, 64)        256       \n",
      "_________________________________________________________________\n",
      "conv2d_12 (Conv2D)           (None, 43, 43, 32)        51232     \n",
      "_________________________________________________________________\n",
      "max_pooling2d_12 (MaxPooling (None, 21, 21, 32)        0         \n",
      "_________________________________________________________________\n",
      "flatten_3 (Flatten)          (None, 14112)             0         \n",
      "_________________________________________________________________\n",
      "dense_7 (Dense)              (None, 512)               7225856   \n",
      "_________________________________________________________________\n",
      "dropout_5 (Dropout)          (None, 512)               0         \n",
      "_________________________________________________________________\n",
      "dense_8 (Dense)              (None, 512)               262656    \n",
      "_________________________________________________________________\n",
      "dropout_6 (Dropout)          (None, 512)               0         \n",
      "_________________________________________________________________\n",
      "dense_9 (Dense)              (None, 4)                 2052      \n",
      "=================================================================\n",
      "Total params: 7,757,156\n",
      "Trainable params: 7,756,772\n",
      "Non-trainable params: 384\n",
      "_________________________________________________________________\n"
     ]
    }
   ],
   "source": [
    "model.summary()"
   ]
  },
  {
   "cell_type": "code",
   "execution_count": 63,
   "metadata": {
    "id": "8PNjsI6vs7Kw"
   },
   "outputs": [],
   "source": [
    "loss=keras.losses.CategoricalCrossentropy() \n",
    "model.compile(loss=loss,optimizer='adam',metrics=['accuracy'])"
   ]
  },
  {
   "cell_type": "code",
   "execution_count": null,
   "metadata": {
    "colab": {
     "base_uri": "https://localhost:8080/",
     "height": 415
    },
    "id": "3xvXTG3ss7Kx",
    "outputId": "2c39aa65-352f-46e0-80e0-36686d6bbf8f"
   },
   "outputs": [
    {
     "name": "stdout",
     "output_type": "stream",
     "text": [
      "Epoch 1/20\n",
      " 2/90 [..............................] - ETA: 8:12:31 - loss: 4.1204 - accuracy: 0.2969 "
     ]
    }
   ],
   "source": [
    "history=model.fit(train_data,epochs=20,callbacks=[modelcallback],validation_data=val_data)"
   ]
  },
  {
   "cell_type": "code",
   "execution_count": 24,
   "metadata": {
    "id": "_HdWdmN49yrc"
   },
   "outputs": [
    {
     "data": {
      "image/png": "[encoded data removed]",
      "text/plain": [
       "<Figure size 432x288 with 1 Axes>"
      ]
     },
     "metadata": {
      "needs_background": "light"
     },
     "output_type": "display_data"
    }
   ],
   "source": [
    "#plotting the performance of the model\n",
    " \n",
    "loss=history.history['loss']\n",
    "epochs=range(1,11)\n",
    "plt.title('A plot of the loss: note an elbow function is desired')\n",
    "plt.plot(epochs,loss)\n",
    "plt.xlabel('epochs')\n",
    "plt.ylabel('loss')\n",
    "plt.show()"
   ]
  },
  {
   "cell_type": "code",
   "execution_count": 25,
   "metadata": {
    "id": "kM7_i5DJV1Oe"
   },
   "outputs": [
    {
     "data": {
      "image/png": "[encoded data removed]",
      "text/plain": [
       "<Figure size 432x288 with 1 Axes>"
      ]
     },
     "metadata": {
      "needs_background": "light"
     },
     "output_type": "display_data"
    }
   ],
   "source": [
    "accuracy=history.history[\"accuracy\"]\n",
    "plt.title(\"This is a plot of accuracies\")\n",
    "plt.plot(epochs,accuracy)\n",
    "plt.xlabel(\"epochs\")\n",
    "plt.ylabel(\"accuracy\")\n",
    "plt.show()"
   ]
  },
  {
   "cell_type": "code",
   "execution_count": 40,
   "metadata": {
    "id": "Y-PidMvILZgG"
   },
   "outputs": [],
   "source": [
    "prediction_data=model.predict(test_data)"
   ]
  },
  {
   "cell_type": "code",
   "execution_count": 42,
   "metadata": {
    "id": "_SU64jXK-JLq"
   },
   "outputs": [],
   "source": [
    "def get_pred(data):\n",
    "    \n",
    "  \n",
    "    my_data=[]\n",
    "\n",
    "    for i in data:\n",
    "        \n",
    "        prediction=np.where(i==np.amax(i))\n",
    "\n",
    "        my_data.append(prediction[0][0])\n",
    "\n",
    "  \n",
    "    return my_data\n"
   ]
  },
  {
   "cell_type": "code",
   "execution_count": 43,
   "metadata": {
    "id": "NzxXPVIc_LSd"
   },
   "outputs": [],
   "source": [
    "y_pred=get_pred(prediction_data)"
   ]
  },
  {
   "cell_type": "code",
   "execution_count": 44,
   "metadata": {
    "id": "gp5EdMDj_PjG"
   },
   "outputs": [
    {
     "name": "stdout",
     "output_type": "stream",
     "text": [
      "              precision    recall  f1-score   support\n",
      "\n",
      "           0       0.21      0.05      0.08       100\n",
      "           1       0.29      0.24      0.27       115\n",
      "           2       0.26      0.57      0.35       105\n",
      "           3       0.28      0.15      0.19        74\n",
      "\n",
      "    accuracy                           0.26       394\n",
      "   macro avg       0.26      0.25      0.22       394\n",
      "weighted avg       0.26      0.26      0.23       394\n",
      "\n"
     ]
    },
    {
     "data": {
      "image/png": "[encoded data removed]",
      "text/plain": [
       "<Figure size 432x288 with 1 Axes>"
      ]
     },
     "metadata": {
      "needs_background": "light"
     },
     "output_type": "display_data"
    }
   ],
   "source": [
    "# plotting a confusion matrix for our data\n",
    " \n",
    "labels=[\"glioma_tumor\",\"meningioma_tumor\",\"no_tumor\",\"pituitary_tumor\"] \n",
    "conf_mat=confusion_matrix(y_pred,test_data.labels)\n",
    "\n",
    "plot_confusion_matrix(conf_mat)\n",
    "report=classification_report(test_data.labels,y_pred)\n",
    "print(report) "
   ]
  },
  {
   "cell_type": "code",
   "execution_count": 41,
   "metadata": {
    "colab": {
     "base_uri": "https://localhost:8080/"
    },
    "id": "d690J6zx_-l-",
    "outputId": "0af94a3e-5ae3-4076-d7d4-084066a99922"
   },
   "outputs": [
    {
     "data": {
      "text/plain": [
       "394"
      ]
     },
     "execution_count": 41,
     "metadata": {},
     "output_type": "execute_result"
    }
   ],
   "source": [
    " len(prediction_data)"
   ]
  },
  {
   "cell_type": "code",
   "execution_count": null,
   "metadata": {
    "colab": {
     "background_save": true
    },
    "id": "NiR4c-YlEd4r"
   },
   "outputs": [],
   "source": []
  },
  {
   "cell_type": "code",
   "execution_count": null,
   "metadata": {},
   "outputs": [],
   "source": []
  }
 ],
 "metadata": {
  "accelerator": "GPU",
  "colab": {
   "collapsed_sections": [],
   "name": "Hope.ipynb",
   "provenance": []
  },
  "kernelspec": {
   "display_name": "Python 3",
   "language": "python",
   "name": "python3"
  },
  "language_info": {
   "codemirror_mode": {
    "name": "ipython",
    "version": 3
   },
   "file_extension": ".py",
   "mimetype": "text/x-python",
   "name": "python",
   "nbconvert_exporter": "python",
   "pygments_lexer": "ipython3",
   "version": "3.7.4"
  }
 },
 "nbformat": 4,
 "nbformat_minor": 1
}

{
 "cells": [
  {
   "cell_type": "code",
   "execution_count": 65,
   "metadata": {},
   "outputs": [],
   "source": [
    "\n",
    "import tensorflow as tf\n",
    "import tensorflow.keras\n",
    "from keras.models import load_model,Sequential,Input\n",
    "from gensim.models import Word2Vec\n",
    "from keras.preprocessing.image import ImageDataGenerator\n",
    "from keras.layers import Conv2D,Dense,Flatten,MaxPooling2D,BatchNormalization,Dropout\n",
    "from keras.models import Sequential\n",
    "import os\n",
    "from sklearn.metrics import confusion_matrix\n",
    "from mlxtend.plotting import plot_confusion_matrix \n",
    "from sklearn.metrics import classification_report\n",
    " "
   ]
  },
  {
   "cell_type": "code",
   "execution_count": 57,
   "metadata": {},
   "outputs": [],
   "source": [
    "os.chdir(r\"C:\\Users\\HP\\data\\Brain_tumor_classification\")"
   ]
  },
  {
   "cell_type": "code",
   "execution_count": null,
   "metadata": {},
   "outputs": [],
   "source": [
    "model.add(Conv2D(filters=32,activation='relu',padding='same',use_bias=True,kernel_size=(5,5),input_shape=(200,200,3)))\n",
    "model.add(MaxPooling2D(padding='valid',pool_size=(2,2)))\n",
    "\n",
    "model.add(Conv2D(filters=64,activation='relu',padding='valid',use_bias=True,kernel_size=(5,5)))\n",
    "model.add(MaxPooling2D(padding='valid',pool_size=(2,2)))\n",
    "\n",
    "model.add(Conv2D(filters=64,activation='relu',padding='valid',use_bias=True,kernel_size=(5,5)))\n",
    "model.add(MaxPooling2D(padding='valid',pool_size=(2,2)))\n",
    "\n",
    "model.add(Conv2D(filters=128,activation='relu',padding='same',use_bias=True,kernel_size=(5,5)))\n",
    "model.add(MaxPooling2D(padding='valid',pool_size=(2,2)))\n",
    "\n",
    "model.add(Conv2D(filters=256,activation='relu',padding='same',use_bias=True,kernel_size=(5,5)))\n",
    "model.add(MaxPooling2D(padding='valid',pool_size=(2,2)))\n",
    "\n",
    "\n",
    "\n",
    "model.add(Flatten())\n",
    "model.add(Dense(1024,activation='relu'))\n",
    "model.add(Dropout(0.2))\n",
    "model.add(Dense(4,activation='softmax'))\n"
   ]
  },
  {
   "cell_type": "code",
   "execution_count": null,
   "metadata": {},
   "outputs": [],
   "source": [
    " "
   ]
  },
  {
   "cell_type": "code",
   "execution_count": 41,
   "metadata": {
    "collapsed": true
   },
   "outputs": [
    {
     "name": "stdout",
     "output_type": "stream",
     "text": [
      "Model: \"vgg16\"\n",
      "_________________________________________________________________\n",
      "Layer (type)                 Output Shape              Param #   \n",
      "=================================================================\n",
      "input_5 (InputLayer)         [(None, 200, 200, 3)]     0         \n",
      "_________________________________________________________________\n",
      "block1_conv1 (Conv2D)        (None, 200, 200, 64)      1792      \n",
      "_________________________________________________________________\n",
      "block1_conv2 (Conv2D)        (None, 200, 200, 64)      36928     \n",
      "_________________________________________________________________\n",
      "block1_pool (MaxPooling2D)   (None, 100, 100, 64)      0         \n",
      "_________________________________________________________________\n",
      "block2_conv1 (Conv2D)        (None, 100, 100, 128)     73856     \n",
      "_________________________________________________________________\n",
      "block2_conv2 (Conv2D)        (None, 100, 100, 128)     147584    \n",
      "_________________________________________________________________\n",
      "block2_pool (MaxPooling2D)   (None, 50, 50, 128)       0         \n",
      "_________________________________________________________________\n",
      "block3_conv1 (Conv2D)        (None, 50, 50, 256)       295168    \n",
      "_________________________________________________________________\n",
      "block3_conv2 (Conv2D)        (None, 50, 50, 256)       590080    \n",
      "_________________________________________________________________\n",
      "block3_conv3 (Conv2D)        (None, 50, 50, 256)       590080    \n",
      "_________________________________________________________________\n",
      "block3_pool (MaxPooling2D)   (None, 25, 25, 256)       0         \n",
      "_________________________________________________________________\n",
      "block4_conv1 (Conv2D)        (None, 25, 25, 512)       1180160   \n",
      "_________________________________________________________________\n",
      "block4_conv2 (Conv2D)        (None, 25, 25, 512)       2359808   \n",
      "_________________________________________________________________\n",
      "block4_conv3 (Conv2D)        (None, 25, 25, 512)       2359808   \n",
      "_________________________________________________________________\n",
      "block4_pool (MaxPooling2D)   (None, 12, 12, 512)       0         \n",
      "_________________________________________________________________\n",
      "block5_conv1 (Conv2D)        (None, 12, 12, 512)       2359808   \n",
      "_________________________________________________________________\n",
      "block5_conv2 (Conv2D)        (None, 12, 12, 512)       2359808   \n",
      "_________________________________________________________________\n",
      "block5_conv3 (Conv2D)        (None, 12, 12, 512)       2359808   \n",
      "_________________________________________________________________\n",
      "block5_pool (MaxPooling2D)   (None, 6, 6, 512)         0         \n",
      "_________________________________________________________________\n",
      "global_max_pooling2d_4 (Glob (None, 512)               0         \n",
      "=================================================================\n",
      "Total params: 14,714,688\n",
      "Trainable params: 14,714,688\n",
      "Non-trainable params: 0\n",
      "_________________________________________________________________\n"
     ]
    }
   ],
   "source": [
    " model.summary()"
   ]
  },
  {
   "cell_type": "code",
   "execution_count": 22,
   "metadata": {},
   "outputs": [],
   "source": [
    "generator=ImageDataGenerator(rescale=1/255,horizontal_flip=True,vertical_flip=True,rotation_range=45,zoom_range=0.25,validation_split=0.2)"
   ]
  },
  {
   "cell_type": "code",
   "execution_count": 36,
   "metadata": {},
   "outputs": [],
   "source": [
    "def load_training_data():\n",
    "    training_data=generator.flow_from_directory('Training',color_mode='rgb',class_mode='categorical',target_size=(200,200),subset='training')\n",
    "    validation_data=generator.flow_from_directory('Training',color_mode='rgb',class_mode='categorical',target_size=(200,200),subset='validation')\n",
    "    return (training_data,validation_data)"
   ]
  },
  {
   "cell_type": "code",
   "execution_count": 62,
   "metadata": {},
   "outputs": [],
   "source": [
    "def load_testing_data():\n",
    "    testing_data=generator.flow_from_directory('Testing',color_mode='rgb',class_mode='categorical',target_size=(200,200))\n",
    "    return (testing_data)"
   ]
  },
  {
   "cell_type": "code",
   "execution_count": 37,
   "metadata": {},
   "outputs": [
    {
     "name": "stdout",
     "output_type": "stream",
     "text": [
      "Found 2297 images belonging to 4 classes.\n",
      "Found 573 images belonging to 4 classes.\n"
     ]
    }
   ],
   "source": [
    "train_data,val_data=load_training_data()"
   ]
  },
  {
   "cell_type": "code",
   "execution_count": 63,
   "metadata": {},
   "outputs": [
    {
     "name": "stdout",
     "output_type": "stream",
     "text": [
      "Found 394 images belonging to 4 classes.\n"
     ]
    }
   ],
   "source": [
    "\n",
    "testing=load_testing_data()"
   ]
  },
  {
   "cell_type": "code",
   "execution_count": 64,
   "metadata": {},
   "outputs": [
    {
     "name": "stdout",
     "output_type": "stream",
     "text": [
      "13/13 [==============================] - 44s 3s/step\n"
     ]
    }
   ],
   "source": [
    "pred_data=model.predict_classes(testing,batch_size=None,verbose=1)"
   ]
  },
  {
   "cell_type": "code",
   "execution_count": 39,
   "metadata": {},
   "outputs": [],
   "source": [
    "loss=keras.losses.CategoricalCrossentropy()\n",
    "model.compile(loss=loss,optimizer='adam',metrics=['accuracy'])"
   ]
  },
  {
   "cell_type": "code",
   "execution_count": 41,
   "metadata": {},
   "outputs": [
    {
     "name": "stdout",
     "output_type": "stream",
     "text": [
      "Epoch 1/10\n",
      "72/72 [==============================] - 357s 5s/step - loss: 0.8718 - accuracy: 0.6291 - val_loss: 1.1255 - val_accuracy: 0.5218\n",
      "Epoch 2/10\n",
      "72/72 [==============================] - 296s 4s/step - loss: 0.8344 - accuracy: 0.6513 - val_loss: 1.3056 - val_accuracy: 0.5288\n",
      "Epoch 3/10\n",
      "72/72 [==============================] - 294s 4s/step - loss: 0.7865 - accuracy: 0.6643 - val_loss: 1.1205 - val_accuracy: 0.4904\n",
      "Epoch 4/10\n",
      "72/72 [==============================] - 301s 4s/step - loss: 0.7521 - accuracy: 0.6879 - val_loss: 1.1108 - val_accuracy: 0.5148\n",
      "Epoch 5/10\n",
      "72/72 [==============================] - 310s 4s/step - loss: 0.7029 - accuracy: 0.7005 - val_loss: 0.9372 - val_accuracy: 0.5620\n",
      "Epoch 6/10\n",
      "72/72 [==============================] - 313s 4s/step - loss: 0.6952 - accuracy: 0.7083 - val_loss: 1.1575 - val_accuracy: 0.6091\n",
      "Epoch 7/10\n",
      "72/72 [==============================] - 309s 4s/step - loss: 0.6561 - accuracy: 0.7196 - val_loss: 1.0160 - val_accuracy: 0.5829\n",
      "Epoch 8/10\n",
      "72/72 [==============================] - 316s 4s/step - loss: 0.6280 - accuracy: 0.7362 - val_loss: 0.9730 - val_accuracy: 0.5986\n",
      "Epoch 9/10\n",
      "72/72 [==============================] - 315s 4s/step - loss: 0.5963 - accuracy: 0.7597 - val_loss: 0.8587 - val_accuracy: 0.5707\n",
      "Epoch 10/10\n",
      "72/72 [==============================] - 302s 4s/step - loss: 0.5925 - accuracy: 0.7588 - val_loss: 0.7963 - val_accuracy: 0.6318\n"
     ]
    }
   ],
   "source": [
    "history=model.fit(train_data,epochs=10,validation_data=val_data,verbose=1)"
   ]
  },
  {
   "cell_type": "code",
   "execution_count": 45,
   "metadata": {},
   "outputs": [],
   "source": [
    "#plotting the losses and accuracy :\n",
    "\n",
    "model_loss=history.history['loss']\n",
    "model_accuracy=history.history['accuracy']\n",
    "val_loss=history.history['val_loss']\n",
    "val_accuracy=history.history['val_accuracy']\n"
   ]
  },
  {
   "cell_type": "code",
   "execution_count": 47,
   "metadata": {},
   "outputs": [
    {
     "data": {
      "image/png": "[encoded data removed]",
      "text/plain": [
       "<Figure size 432x288 with 1 Axes>"
      ]
     },
     "metadata": {
      "needs_background": "light"
     },
     "output_type": "display_data"
    },
    {
     "data": {
      "image/png": "[encoded data removed]",
      "text/plain": [
       "<Figure size 432x288 with 1 Axes>"
      ]
     },
     "metadata": {
      "needs_background": "light"
     },
     "output_type": "display_data"
    }
   ],
   "source": [
    "import matplotlib.pyplot as plt\n",
    "epochs=range(1,11)\n",
    "\n",
    "plt.plot(epochs,model_loss,c='black')\n",
    "plt.plot(epochs,val_loss,c='red')\n",
    "plt.xlabel('Number of epochs')\n",
    "plt.ylabel('loss')\n",
    "plt.title('Loss')\n",
    "plt.show()\n",
    "\n",
    "\n",
    "\n",
    "plt.plot(epochs,model_accuracy,c='black')\n",
    "plt.plot(epochs,model_accuracy,c='red')\n",
    "plt.xlabel('Number of epochs')\n",
    "plt.ylabel('loss')\n",
    "plt.title('Accuracy')\n",
    "plt.show()"
   ]
  },
  {
   "cell_type": "code",
   "execution_count": 113,
   "metadata": {},
   "outputs": [],
   "source": [
    "class_names=[\"glioma_tumor\",\"meningioma_tumor\",\"no_tumor\",\"pituitary_tumour\"]"
   ]
  },
  {
   "cell_type": "code",
   "execution_count": 110,
   "metadata": {},
   "outputs": [],
   "source": [
    "model.save('MRIac29.h5')\n",
    " "
   ]
  },
  {
   "cell_type": "code",
   "execution_count": 91,
   "metadata": {},
   "outputs": [],
   "source": [
    "labels=testing.labels\n"
   ]
  },
  {
   "cell_type": "code",
   "execution_count": 94,
   "metadata": {},
   "outputs": [],
   "source": [
    "pred=model.predict_classes(testing,batch_size=None)"
   ]
  },
  {
   "cell_type": "code",
   "execution_count": 96,
   "metadata": {},
   "outputs": [],
   "source": [
    " matrix=confusion_matrix(pred,labels)"
   ]
  },
  {
   "cell_type": "code",
   "execution_count": 114,
   "metadata": {},
   "outputs": [
    {
     "data": {
      "text/plain": [
       "(<Figure size 432x288 with 1 Axes>,\n",
       " <AxesSubplot:xlabel='predicted label', ylabel='true label'>)"
      ]
     },
     "execution_count": 114,
     "metadata": {},
     "output_type": "execute_result"
    },
    {
     "data": {
      "image/png": "[encoded data removed]",
      "text/plain": [
       "<Figure size 432x288 with 1 Axes>"
      ]
     },
     "metadata": {
      "needs_background": "light"
     },
     "output_type": "display_data"
    }
   ],
   "source": [
    "plot_confusion_matrix(matrix,class_names=class_names)"
   ]
  },
  {
   "cell_type": "code",
   "execution_count": 111,
   "metadata": {},
   "outputs": [],
   "source": [
    "lables={0:\"glioma_tumor\",1:\"meningioma_tumor\",2:\"no_tumor\",3:\"pituitary_tumour\"}"
   ]
  },
  {
   "cell_type": "code",
   "execution_count": 106,
   "metadata": {},
   "outputs": [
    {
     "name": "stdout",
     "output_type": "stream",
     "text": [
      "              precision    recall  f1-score   support\n",
      "\n",
      "           0       0.31      0.04      0.07       100\n",
      "           1       0.31      0.23      0.27       115\n",
      "           2       0.29      0.74      0.41       105\n",
      "           3       0.24      0.07      0.11        74\n",
      "\n",
      "    accuracy                           0.29       394\n",
      "   macro avg       0.28      0.27      0.21       394\n",
      "weighted avg       0.29      0.29      0.23       394\n",
      "\n"
     ]
    }
   ],
   "source": [
    "print(classification_report(labels,pred))"
   ]
  },
  {
   "cell_type": "code",
   "execution_count": null,
   "metadata": {},
   "outputs": [],
   "source": [
    " "
   ]
  },
  {
   "cell_type": "code",
   "execution_count": null,
   "metadata": {},
   "outputs": [],
   "source": [
    " "
   ]
  },
  {
   "cell_type": "code",
   "execution_count": null,
   "metadata": {},
   "outputs": [],
   "source": []
  }
 ],
 "metadata": {
  "kernelspec": {
   "display_name": "Python [conda env:opencv-env] *",
   "language": "python",
   "name": "conda-env-opencv-env-py"
  },
  "language_info": {
   "codemirror_mode": {
    "name": "ipython",
    "version": 3
   },
   "file_extension": ".py",
   "mimetype": "text/x-python",
   "name": "python",
   "nbconvert_exporter": "python",
   "pygments_lexer": "ipython3",
   "version": "3.7.4"
  }
 },
 "nbformat": 4,
 "nbformat_minor": 2
}
